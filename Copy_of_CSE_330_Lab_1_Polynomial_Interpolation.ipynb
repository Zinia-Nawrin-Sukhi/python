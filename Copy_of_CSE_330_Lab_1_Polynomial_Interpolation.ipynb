{
  "nbformat": 4,
  "nbformat_minor": 0,
  "metadata": {
    "colab": {
      "name": "Copy of CSE 330 Lab 1: Polynomial Interpolation",
      "provenance": []
    },
    "kernelspec": {
      "name": "python3",
      "display_name": "Python 3"
    }
  },
  "cells": [
    {
      "cell_type": "code",
      "metadata": {
        "id": "bELIKoB5_3eJ"
      },
      "source": [
        "import numpy as np\n",
        "import matplotlib.pyplot as plt\n",
        "# numpy is used for efficient array (vector or matrix) operations\n",
        "# pyplot is used for plotting \n",
        "# Must read: [https://www.tutorialspoint.com/numpy/numpy_matplotlib.htm]\n",
        "\n",
        "\n",
        "# Polynomial Class\n",
        "\n",
        "class Polynomial:\n",
        "  # Constructor, note that it starts and ends with two underscores\n",
        "  def __init__(self, coeff):\n",
        "    '''\n",
        "    Every internal variable of the object must be saved and initialized\n",
        "    in this method: self.variable = value\n",
        "\n",
        "    Note that this is an example of block comment in python. A block comment \n",
        "    starts with three ' and ends with three '.\n",
        "    '''\n",
        "    self.coefficients = coeff \n",
        "    self.order = len(coeff) - 1\n",
        "\n",
        "  # Constructor to make the object callable \n",
        "  def __call__(self, x):\n",
        "    '''\n",
        "    Here we assumed x is a numpy array. Remember that a numpy array acts like \n",
        "    a vector (1D matrix). So an operation x + 1 would add 1 to each element\n",
        "    of the matrix (unlike python's defaule list). Simlarly, x ** 2 would return\n",
        "    element wise square of the array. \n",
        "\n",
        "    Hence, this method would return an array, where the i'th element is the \n",
        "    (polynomial) interpolated value of x[i], given the coeffecients a[i].\n",
        "    '''\n",
        "    res = 0\n",
        "    # remember 1: length = order + 1 for a polynomial\n",
        "    # remember 2: range(0, a) is same as range(a)\n",
        "    # remember 3: range(a, b) means a is inclusive, b is exclusive\n",
        "    for i in range( self.order + 1 ):\n",
        "      a_i = self.coefficients[i]\n",
        "      res +=  a_i * (x ** i)\n",
        "      \n",
        "    return res\n",
        "\n",
        "  # String representation method of the object (similar to toString() of java)\n",
        "  def __repr__(self):\n",
        "    # remember: a formatted string must start with f.\n",
        "    # backslash (\\) means a line break, so the next line would be joined with\n",
        "    # the previous line\n",
        "    ret_str = \\\n",
        "    f\"{self.order}th order Polynomial with coefficients - {self.coefficients}\"\n",
        "    return ret_str\n",
        "\n",
        "  # custom method 1: to get the degree of the polynomial\n",
        "  def degree(self):\n",
        "    return self.order\n",
        "  # custom method 2: to get the coefficients of the polynomial\n",
        "  def coeffs(self):\n",
        "    return self.coefficients"
      ],
      "execution_count": null,
      "outputs": []
    },
    {
      "cell_type": "code",
      "metadata": {
        "id": "HAONb_ZvN8ud",
        "colab": {
          "base_uri": "https://localhost:8080/",
          "height": 51
        },
        "outputId": "61abc2cf-2a1c-49ea-cfeb-b37f988d81cf"
      },
      "source": [
        "# an example to see if our implementation works\n",
        "coeff = np.array([1, 0, 2, 4, -2])\n",
        "p = Polynomial(coeff)\n",
        "print(p)  # check if printable\n",
        "x = np.array([0, 1, 2])\n",
        "print(p(x)) # check if the object is callable\n"
      ],
      "execution_count": null,
      "outputs": [
        {
          "output_type": "stream",
          "text": [
            "4th order Polynomial with coefficients - [ 1  0  2  4 -2]\n",
            "[1 5 9]\n"
          ],
          "name": "stdout"
        }
      ]
    },
    {
      "cell_type": "code",
      "metadata": {
        "id": "fZQ1a97LIiJq"
      },
      "source": [
        "'''\n",
        "Lab task 1\n",
        "Here we implement a function which takes a discrete x and y array, and returns\n",
        "a Polynomial object (the one we just implemented). This polynomial object can \n",
        "be used to calculate y for any other value of x (not in that list) within the\n",
        "range\n",
        "'''\n",
        "def get_poly(x, y):\n",
        "  length = len(x)\n",
        "  # np.zeors( (a, b) ) returns a (a x b) matrix, i.e., a rows and b columns \n",
        "  X = np.zeros( (length, length) )\n",
        "\n",
        "  # See the lecture video how the matrix is formed\n",
        "  for i in range(length):\n",
        "    for j in range(length):\n",
        "      X[i, j] = x[i] ** j\n",
        "\n",
        "  # We could have also used np.linalg.inv to find the inverse\n",
        "  # but pinv is more efficient\n",
        "  X_inv = np.linalg.pinv(X) #pseudo inverse\n",
        "  a = np.dot(X_inv, y)\n",
        "  p = Polynomial(a)\n",
        "\n",
        "  return p"
      ],
      "execution_count": null,
      "outputs": []
    },
    {
      "cell_type": "code",
      "metadata": {
        "id": "FDEbWCoKJBFC"
      },
      "source": [
        "x = np.array([-3., -2., -1., 0., 1., 3.])\n",
        "y = np.array([-80., -13., 6., 1., 5., 16.])\n",
        "p = get_poly(x, y)\n",
        "'''\n",
        "np.linspace(a, b, n) returns a numpy array of n points equally \n",
        "spaced from a to b\n",
        "'''\n",
        "new_x = np.linspace(-3, 3, 100)\n",
        "# interpolated values\n",
        "poly_y = p(new_x)\n",
        "\n"
      ],
      "execution_count": null,
      "outputs": []
    },
    {
      "cell_type": "code",
      "metadata": {
        "id": "vVkEK_2kJJGP",
        "colab": {
          "base_uri": "https://localhost:8080/",
          "height": 296
        },
        "outputId": "53249bb6-34e4-4830-8168-b30864f54820"
      },
      "source": [
        "plt.plot(new_x, poly_y, 'k')\n",
        "plt.plot(x, y, 'ro')\n",
        "plt.xlabel('x - axis')\n",
        "plt.ylabel('y - axis')"
      ],
      "execution_count": null,
      "outputs": [
        {
          "output_type": "execute_result",
          "data": {
            "text/plain": [
              "Text(0, 0.5, 'y - axis')"
            ]
          },
          "metadata": {
            "tags": []
          },
          "execution_count": 10
        },
        {
          "output_type": "display_data",
          "data": {
            "image/png": "[encoded data removed]",
            "text/plain": [
              "<Figure size 432x288 with 1 Axes>"
            ]
          },
          "metadata": {
            "tags": [],
            "needs_background": "light"
          }
        }
      ]
    },
    {
      "cell_type": "markdown",
      "metadata": {
        "id": "B1XyeInVWV47"
      },
      "source": [
        "# **The blocks below were used for debugging/demonstration purpose**"
      ]
    },
    {
      "cell_type": "code",
      "metadata": {
        "id": "g7J8GYq6JL-7"
      },
      "source": [
        "# Python: How to function\n",
        "# Note: No need to specify return type, can have multiple outputs\n",
        "def fun1(x, y):\n",
        "  z = x + y\n",
        "  z2 = z**2\n",
        "  return z, z2"
      ],
      "execution_count": null,
      "outputs": []
    },
    {
      "cell_type": "code",
      "metadata": {
        "id": "0hiTKpLrK7hT",
        "colab": {
          "base_uri": "https://localhost:8080/",
          "height": 51
        },
        "outputId": "07484822-a21a-47c8-d325-f6df88ee0334"
      },
      "source": [
        "a, b = fun1(1, 2)\n",
        "print(a)\n",
        "print(b)"
      ],
      "execution_count": null,
      "outputs": [
        {
          "output_type": "stream",
          "text": [
            "3\n",
            "9\n"
          ],
          "name": "stdout"
        }
      ]
    },
    {
      "cell_type": "code",
      "metadata": {
        "id": "34UY-ee3LAS2",
        "colab": {
          "base_uri": "https://localhost:8080/",
          "height": 34
        },
        "outputId": "1a7d983f-6bbb-4f29-bf2c-e66104bced31"
      },
      "source": [
        "# usage of line breal\n",
        "a = \\\n",
        "3\n",
        "\n",
        "print(a)"
      ],
      "execution_count": null,
      "outputs": [
        {
          "output_type": "stream",
          "text": [
            "3\n"
          ],
          "name": "stdout"
        }
      ]
    },
    {
      "cell_type": "code",
      "metadata": {
        "id": "kZallO5YLAyn",
        "colab": {
          "base_uri": "https://localhost:8080/",
          "height": 85
        },
        "outputId": "65d44fcb-c6aa-4c21-8552-9b0c6778c21c"
      },
      "source": [
        "# demo: loop\n",
        "for i in range(1, 5):\n",
        "  print(i)"
      ],
      "execution_count": null,
      "outputs": [
        {
          "output_type": "stream",
          "text": [
            "1\n",
            "2\n",
            "3\n",
            "4\n"
          ],
          "name": "stdout"
        }
      ]
    },
    {
      "cell_type": "code",
      "metadata": {
        "id": "fuLIHAGJPzIJ",
        "colab": {
          "base_uri": "https://localhost:8080/",
          "height": 51
        },
        "outputId": "378ad5c7-ff6e-452b-8452-0c69f35852aa"
      },
      "source": [
        "# demo: np.zeors\n",
        "X = np.zeros( (2, 3) )\n",
        "print(X)"
      ],
      "execution_count": null,
      "outputs": [
        {
          "output_type": "stream",
          "text": [
            "[[0. 0. 0.]\n",
            " [0. 0. 0.]]\n"
          ],
          "name": "stdout"
        }
      ]
    },
    {
      "cell_type": "code",
      "metadata": {
        "id": "jJTjp1p6TPG2",
        "colab": {
          "base_uri": "https://localhost:8080/",
          "height": 51
        },
        "outputId": "0c58bc20-6fa4-4161-f89c-7a85e89c7c55"
      },
      "source": [
        "# demo: array accessing, element wise operation\n",
        "X[0, 0] = 1\n",
        "X[1, 2] = 3\n",
        "print(X * X)"
      ],
      "execution_count": null,
      "outputs": [
        {
          "output_type": "stream",
          "text": [
            "[[1. 0. 0.]\n",
            " [0. 0. 9.]]\n"
          ],
          "name": "stdout"
        }
      ]
    },
    {
      "cell_type": "code",
      "metadata": {
        "id": "m7fQfuq-TYVC"
      },
      "source": [
        "x = np.array([1.0, 2.0, 3.0])"
      ],
      "execution_count": null,
      "outputs": []
    },
    {
      "cell_type": "code",
      "metadata": {
        "id": "fKNY95AxTm-h",
        "colab": {
          "base_uri": "https://localhost:8080/",
          "height": 102
        },
        "outputId": "09846e7b-647d-4ac8-ebe2-678ad0824145"
      },
      "source": [
        "# demo: array slicing\n",
        "X = np.zeros((3, 4))\n",
        "X[0, 0] = 1\n",
        "X[1, 2] = 3\n",
        "print(X)\n",
        "print(X[0]) # prints the 0th row\n",
        "print(X[:, 0]) # prints the 0th column"
      ],
      "execution_count": null,
      "outputs": [
        {
          "output_type": "stream",
          "text": [
            "[[1. 0. 0. 0.]\n",
            " [0. 0. 3. 0.]\n",
            " [0. 0. 0. 0.]]\n",
            "[1. 0. 0. 0.]\n",
            "[1. 0. 0.]\n"
          ],
          "name": "stdout"
        }
      ]
    }
  ]
}